{
  "nbformat": 4,
  "nbformat_minor": 0,
  "metadata": {
    "colab": {
      "name": "Untitled6.ipynb",
      "provenance": [],
      "collapsed_sections": []
    },
    "kernelspec": {
      "name": "python3",
      "display_name": "Python 3"
    },
    "language_info": {
      "name": "python"
    }
  },
  "cells": [
    {
      "cell_type": "code",
      "metadata": {
        "colab": {
          "base_uri": "https://localhost:8080/"
        },
        "id": "LN9Jld-wOUsM",
        "outputId": "e25855f8-3a04-46e4-812e-ccf58142a772"
      },
      "source": [
        "import copy\n",
        "import numpy as np\n",
        "import torch\n",
        "from Gridworld import Gridworld\n",
        "from IPython.display import clear_output\n",
        "import random\n",
        "from matplotlib import pylab as plt\n",
        "\n",
        "l1 = 64\n",
        "l2 = 150\n",
        "l3 = 100\n",
        "l4 = 4\n",
        "\n",
        "\n",
        "action_set = {\n",
        "    0: 'u',\n",
        "    1: 'd',\n",
        "    2: 'l',\n",
        "    3: 'r',\n",
        "}\n",
        "\n",
        "model = torch.nn.Sequential(\n",
        "    torch.nn.Conv2d(l4, 32, kernel_size=2, stride=1),\n",
        "    torch.nn.ReLU(),\n",
        "    torch.nn.Conv2d(32, 64, kernel_size=2, stride=2),\n",
        "    torch.nn.ReLU(),\n",
        "    torch.nn.Conv2d(64, 128, kernel_size=3, stride=1),\n",
        "    torch.nn.ReLU(),\n",
        "    torch.nn.Flatten(),\n",
        "    torch.nn.Linear(128, 256),\n",
        "    torch.nn.ReLU(),\n",
        "    torch.nn.Linear(256, 4)\n",
        ")\n",
        "\n",
        "model2 = copy.deepcopy(model) #A\n",
        "model2.load_state_dict(model.state_dict()) #B\n",
        "\n",
        "loss_fn = torch.nn.MSELoss()\n",
        "learning_rate = 1e-3\n",
        "optimizer = torch.optim.Adam(model.parameters(), lr=learning_rate)\n",
        "\n",
        "gamma = 0.9\n",
        "epsilon = 0.3\n",
        "\n",
        "from collections import deque\n",
        "epochs = 5000\n",
        "losses = []\n",
        "mem_size = 1000\n",
        "batch_size = 200\n",
        "replay = deque(maxlen=mem_size)\n",
        "max_moves = 50\n",
        "h = 0\n",
        "sync_freq = 500 #A\n",
        "j=0\n",
        "dimen=7\n",
        "\n",
        "for i in range(epochs*2):\n",
        "    game = Gridworld(size=dimen, mode='random')\n",
        "    state1_ = (game.board.render_np() + np.random.rand(*(game.board.render_np().shape))/100.0)\n",
        "    state1 = torch.from_numpy(state1_).float().reshape((1,4,dimen,dimen))\n",
        "    status = 1\n",
        "    mov = 0\n",
        "    while(status == 1): \n",
        "        j+=1\n",
        "        mov += 1\n",
        "        qval = model(state1)\n",
        "        qval_ = qval.data.numpy()\n",
        "        if (random.random() < epsilon):\n",
        "            action_ = np.random.randint(0,4)\n",
        "        else:\n",
        "            action_ = np.argmax(qval_)\n",
        "        \n",
        "        action = action_set[action_]\n",
        "        game.makeMove(action)\n",
        "        state2_ = (game.board.render_np() + np.random.rand(*(game.board.render_np().shape))/100.0)\n",
        "        state2 = torch.from_numpy(state2_).float().reshape(1,4,dimen,dimen)\n",
        "        reward = game.reward()\n",
        "        done = True if reward > 0 else False\n",
        "        exp =  (state1, action_, reward, state2, done)\n",
        "        replay.append(exp) #H\n",
        "        state1 = state2\n",
        "        \n",
        "        if len(replay) > batch_size:\n",
        "            minibatch = random.sample(replay, batch_size)\n",
        "            state1_batch = torch.cat([s1 for (s1,a,r,s2,d) in minibatch])\n",
        "            action_batch = torch.Tensor([a for (s1,a,r,s2,d) in minibatch])\n",
        "            reward_batch = torch.Tensor([r for (s1,a,r,s2,d) in minibatch])\n",
        "            state2_batch = torch.cat([s2 for (s1,a,r,s2,d) in minibatch])\n",
        "            done_batch = torch.Tensor([d for (s1,a,r,s2,d) in minibatch])\n",
        "            Q1 = model(state1_batch) \n",
        "            with torch.no_grad():\n",
        "                Q2 = model2(state2_batch) #B\n",
        "            \n",
        "            Y = reward_batch + gamma * ((1-done_batch) * torch.max(Q2,dim=1)[0])\n",
        "            X = Q1.gather(dim=1,index=action_batch.long().unsqueeze(dim=1)).squeeze()\n",
        "            loss = loss_fn(X, Y.detach())\n",
        "            print(i, loss.item())\n",
        "            clear_output(wait=True)\n",
        "            optimizer.zero_grad()\n",
        "            loss.backward()\n",
        "            losses.append(loss.item())\n",
        "            optimizer.step()\n",
        "            \n",
        "            if j % sync_freq == 0: #C\n",
        "                model2.load_state_dict(model.state_dict())\n",
        "        if reward != -1 or mov > max_moves:\n",
        "            status = 0\n",
        "            mov = 0\n",
        "        \n",
        "losses = np.array(losses)"
      ],
      "execution_count": 17,
      "outputs": [
        {
          "output_type": "stream",
          "name": "stdout",
          "text": [
            "9999 0.010767124593257904\n"
          ]
        }
      ]
    },
    {
      "cell_type": "code",
      "metadata": {
        "id": "c8rNomW3e9iv"
      },
      "source": [
        "def test_model(dimension,model, mode='static', display=True):\n",
        "  i = 0\n",
        "  test_game = Gridworld(size=dimension,mode=mode)\n",
        "  state_ = (test_game.board.render_np() + np.random.rand(*game.board.render_np().shape)/100.0)\n",
        "  state = torch.from_numpy(state_).float().reshape((1,4,dimension,dimension))\n",
        "  if display:\n",
        "    print(\"Initial State:\")\n",
        "    print(test_game.display())\n",
        "  status = 1\n",
        "  while(status == 1):\n",
        "    qval = model(state)\n",
        "    qval_ = qval.data.numpy()\n",
        "    action_ = np.argmax(qval_)\n",
        "    action = action_set[action_]\n",
        "    if display:\n",
        "      print('Move #: %s; Taking action: %s' % (i, action))\n",
        "    test_game.makeMove(action)\n",
        "    state_ = (test_game.board.render_np() + np.random.rand(*game.board.render_np().shape)/100.0)\n",
        "    state = torch.from_numpy(state_).float().reshape((1,4,dimension,dimension))\n",
        "    if display:\n",
        "      print(test_game.display())\n",
        "    reward = test_game.reward()\n",
        "    if reward != -1:\n",
        "      if reward > 0:\n",
        "        status = 2\n",
        "        if display:\n",
        "          print(\"Game won! Reward: %s\" % (reward, ))\n",
        "      else:\n",
        "        status = 0\n",
        "        if display:\n",
        "          print(\"Game lost! Reward: %s\" % (reward, ))\n",
        "    i += 1\n",
        "    if (i > 15):\n",
        "      if display:\n",
        "        print(\"Game lost; too many moves.\")\n",
        "      break\n",
        "  win = True if status == 2 else False\n",
        "  return win"
      ],
      "execution_count": 18,
      "outputs": []
    },
    {
      "cell_type": "code",
      "metadata": {
        "colab": {
          "base_uri": "https://localhost:8080/",
          "height": 506
        },
        "id": "oeMvrrcBR8am",
        "outputId": "2964d3ef-71d9-432f-cadf-3fc5dff63a05"
      },
      "source": [
        "max_games = 1000\n",
        "wins = 0\n",
        "dimen = 7\n",
        "for i in range(max_games):\n",
        "    win = test_model(dimen, model, mode='random', display=False)\n",
        "    if win:\n",
        "        wins += 1\n",
        "win_perc = float(wins) / float(max_games)\n",
        "print(\"Games played: {0}, # of wins: {1}\".format(max_games,wins))\n",
        "print(\"Win percentage: {}%\".format(100.0*win_perc))\n",
        "\n",
        "plt.figure(figsize=(10,7))\n",
        "plt.plot(losses)\n",
        "plt.xlabel(\"Epochs\",fontsize=22)\n",
        "plt.ylabel(\"Loss\",fontsize=22)"
      ],
      "execution_count": 19,
      "outputs": [
        {
          "output_type": "stream",
          "name": "stdout",
          "text": [
            "Games played: 1000, # of wins: 765\n",
            "Win percentage: 76.5%\n"
          ]
        },
        {
          "output_type": "execute_result",
          "data": {
            "text/plain": [
              "Text(0, 0.5, 'Loss')"
            ]
          },
          "metadata": {},
          "execution_count": 19
        },
        {
          "output_type": "display_data",
          "data": {
            "image/png": "[encoded data removed]",
            "text/plain": [
              "<Figure size 720x504 with 1 Axes>"
            ]
          },
          "metadata": {
            "needs_background": "light"
          }
        }
      ]
    }
  ]
}