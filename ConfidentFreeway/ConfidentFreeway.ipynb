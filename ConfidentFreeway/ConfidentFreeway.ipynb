{
  "nbformat": 4,
  "nbformat_minor": 0,
  "metadata": {
    "colab": {
      "name": "Untitled10.ipynb",
      "provenance": []
    },
    "kernelspec": {
      "name": "python3",
      "display_name": "Python 3"
    },
    "language_info": {
      "name": "python"
    }
  },
  "cells": [
    {
      "cell_type": "code",
      "source": [
        "! pip install atari-py \n",
        "! wget http://www.atarimania.com/roms/Roms.rar\n",
        "! unrar x Roms.rar\n",
        "! python -m atari_py.import_roms \n",
        "! unzip ROMS.zip\n",
        "! python -m atari_py.import_roms ROMS"
      ],
      "metadata": {
        "id": "HOBSFz_O1law"
      },
      "execution_count": null,
      "outputs": []
    },
    {
      "cell_type": "code",
      "metadata": {
        "id": "E8tb4ggh2UiN"
      },
      "source": [
        "import torch\n",
        "import numpy as np\n",
        "import seaborn as sns\n",
        "from tqdm import tqdm\n",
        "\n",
        "vmin,vmax = -10.,10. \n",
        "nsup=51 \n",
        "support = np.linspace(vmin,vmax,nsup) \n",
        "probs = np.ones(nsup)\n",
        "probs /= probs.sum()"
      ],
      "execution_count": 2,
      "outputs": []
    },
    {
      "cell_type": "code",
      "metadata": {
        "id": "XfhiR8XyQsPm"
      },
      "source": [
        "def update_dist(r,support,probs,lim=(-10.,10.),gamma=0.8):\n",
        "    nsup = probs.shape[0]\n",
        "    vmin,vmax = lim[0],lim[1]\n",
        "    dz = (vmax-vmin)/(nsup-1.) \n",
        "    bj = np.round((r-vmin)/dz) \n",
        "    bj = int(np.clip(bj,0,nsup-1)) \n",
        "    m = probs.clone()\n",
        "    j = 1\n",
        "    for i in range(bj,1,-1): \n",
        "        m[i] += np.power(gamma,j) * m[i-1]\n",
        "        j += 1\n",
        "    j = 1\n",
        "    for i in range(bj,nsup-1,1): \n",
        "        m[i] += np.power(gamma,j) * m[i+1]\n",
        "        j += 1\n",
        "    m /= m.sum() \n",
        "    return m"
      ],
      "execution_count": 3,
      "outputs": []
    },
    {
      "cell_type": "code",
      "metadata": {
        "id": "cRlg67sc82le"
      },
      "source": [
        "def dist_dqn(x,theta,aspace=3): \n",
        "    dim0,dim1,dim2,dim3 = 128,100,25,51 \n",
        "    t1 = dim0*dim1\n",
        "    t2 = dim2*dim1\n",
        "    theta1 = theta[0:t1].reshape(dim0,dim1) \n",
        "    theta2 = theta[t1:t1 + t2].reshape(dim1,dim2)\n",
        "    l1 = x @ theta1 \n",
        "    l1 = torch.selu(l1)\n",
        "    l2 = l1 @ theta2 \n",
        "    l2 = torch.selu(l2)\n",
        "    l3 = []\n",
        "    for i in range(aspace): \n",
        "        step = dim2*dim3\n",
        "        theta5_dim = t1 + t2 + i * step\n",
        "        theta5 = theta[theta5_dim:theta5_dim+step].reshape(dim2,dim3)\n",
        "        l3_ = l2 @ theta5 \n",
        "        l3.append(l3_)\n",
        "    l3 = torch.stack(l3,dim=1) \n",
        "    l3 = torch.nn.functional.softmax(l3,dim=2)\n",
        "    return l3.squeeze()"
      ],
      "execution_count": 23,
      "outputs": []
    },
    {
      "cell_type": "code",
      "source": [
        "def get_target_dist(dist_batch,action_batch,reward_batch,support,lim=(-10,10),gamma=0.8):\n",
        "    nsup = support.shape[0]\n",
        "    vmin,vmax = lim[0],lim[1]\n",
        "    dz = (vmax-vmin)/(nsup-1.)\n",
        "    target_dist_batch = dist_batch.clone()\n",
        "    for i in range(dist_batch.shape[0]):\n",
        "        dist_full = dist_batch[i]\n",
        "        action = int(action_batch[i].item())\n",
        "        dist = dist_full[action]\n",
        "        r = reward_batch[i]\n",
        "        if r != -1: \n",
        "            target_dist = torch.zeros(nsup)\n",
        "            bj = np.round((r-vmin)/dz)\n",
        "            bj = int(np.clip(bj,0,nsup-1))\n",
        "            target_dist[bj] = 1.\n",
        "        else: \n",
        "            target_dist = update_dist(r,support,dist,lim=lim,gamma=gamma)\n",
        "        target_dist_batch[i,action,:] = target_dist \n",
        "        \n",
        "    return target_dist_batch"
      ],
      "metadata": {
        "id": "0ilbNY1n2wQt"
      },
      "execution_count": 5,
      "outputs": []
    },
    {
      "cell_type": "code",
      "source": [
        "def lossfn(x,y):\n",
        "    loss = torch.Tensor([0.])\n",
        "    loss.requires_grad=True\n",
        "    for i in range(x.shape[0]): \n",
        "        loss_ = -1 *  torch.log(x[i].flatten(start_dim=0)) @ y[i].flatten(start_dim=0) \n",
        "        loss = loss + loss_\n",
        "    return loss"
      ],
      "metadata": {
        "id": "ts88vlImZ7nQ"
      },
      "execution_count": 31,
      "outputs": []
    },
    {
      "cell_type": "code",
      "source": [
        "def preproc_state(state):\n",
        "    p_state = torch.from_numpy(state).unsqueeze(dim=0).float()\n",
        "    p_state = torch.nn.functional.normalize(p_state,dim=1)\n",
        "    return p_state\n",
        "\n",
        "def variance(dist, support):\n",
        "  return torch.sum((support - (support @ dist))**2)/(nsup - 1)\n",
        "\n",
        "def get_action(dist,support):\n",
        "    actions = []\n",
        "    for b in range(dist.shape[0]): \n",
        "        expectations = [(support @ dist[b,a,:])/variance(dist[b, a, :], support) for a in range(dist.shape[1])]\n",
        "        action = int(np.argmax(expectations)) \n",
        "        actions.append(action)\n",
        "    actions = torch.Tensor(actions).int()\n",
        "    return actions"
      ],
      "metadata": {
        "id": "m6ndY5GVZ_ea"
      },
      "execution_count": 67,
      "outputs": []
    },
    {
      "cell_type": "code",
      "source": [
        "import gym\n",
        "from collections import deque\n",
        "env = gym.make('Freeway-ram-v0')\n",
        "aspace = 3\n",
        "env.env.get_action_meanings()\n",
        "\n",
        "vmin,vmax = -10,10\n",
        "replay_size = 200\n",
        "batch_size = 50\n",
        "nsup = 51\n",
        "dz = (vmax - vmin) / (nsup-1)\n",
        "support = torch.linspace(vmin,vmax,nsup)\n",
        "\n",
        "replay = deque(maxlen=replay_size) \n",
        "lr = 0.0001 \n",
        "gamma = 0.1 \n",
        "epochs = 1300\n",
        "eps = 0.20\n",
        "eps_min = 0.05 \n",
        "priority_level = 5 \n",
        "update_freq = 25 \n",
        "\n",
        "tot_params = 128 * 100 + 100 * 25 + aspace * 25 * 51 \n",
        "theta = torch.randn(tot_params)/10.\n",
        "theta.requires_grad=True\n",
        "theta_2 = theta.detach().clone() \n",
        "\n",
        "losses = []\n",
        "cum_rewards = [] \n",
        "renders = []\n",
        "state = preproc_state(env.reset())"
      ],
      "metadata": {
        "id": "rpLW94vxypqQ"
      },
      "execution_count": 68,
      "outputs": []
    },
    {
      "cell_type": "code",
      "source": [
        "from random import shuffle\n",
        "\n",
        "for i in tqdm(range(epochs)):\n",
        "    pred = dist_dqn(state,theta,aspace=aspace)\n",
        "    if i < replay_size or np.random.rand(1) < eps: \n",
        "        action = np.random.randint(aspace)\n",
        "    else:\n",
        "        action = get_action(pred.unsqueeze(dim=0).detach(),support).item()\n",
        "    state2, reward, done, info = env.step(action) \n",
        "    state2 = preproc_state(state2)\n",
        "    if reward == 1: cum_rewards.append(1) \n",
        "    reward = 10 if reward == 1 else reward \n",
        "    reward = -10 if done else reward \n",
        "    reward = -1 if reward == 0 else reward \n",
        "    exp = (state,action,reward,state2) \n",
        "    replay.append(exp)\n",
        "    \n",
        "    if reward == 10: \n",
        "        for e in range(priority_level):\n",
        "            replay.append(exp)\n",
        "            \n",
        "    shuffle(replay)\n",
        "    state = state2\n",
        "\n",
        "    if len(replay) == replay_size: \n",
        "        indx = np.random.randint(low=0,high=len(replay),size=batch_size)\n",
        "        exps = [replay[j] for j in indx]\n",
        "        state_batch = torch.stack([ex[0] for ex in exps],dim=1).squeeze()\n",
        "        action_batch = torch.Tensor([ex[1] for ex in exps])\n",
        "        reward_batch = torch.Tensor([ex[2] for ex in exps])\n",
        "        state2_batch = torch.stack([ex[3] for ex in exps],dim=1).squeeze()\n",
        "        pred_batch = dist_dqn(state_batch.detach(),theta,aspace=aspace)\n",
        "        pred2_batch = dist_dqn(state2_batch.detach(),theta_2,aspace=aspace)\n",
        "        target_dist = get_target_dist(pred2_batch,action_batch,reward_batch, \\\n",
        "                                     support, lim=(vmin,vmax),gamma=gamma)\n",
        "        loss = lossfn(pred_batch,target_dist.detach())\n",
        "\n",
        "        losses.append(loss.item())\n",
        "        loss.backward()\n",
        "        with torch.no_grad(): \n",
        "            theta -= lr * theta.grad\n",
        "        theta.requires_grad = True\n",
        "        \n",
        "    if i % update_freq == 0: \n",
        "        theta_2 = theta.detach().clone()\n",
        "        \n",
        "    if i > 100 and eps > eps_min: \n",
        "        dec = 1./np.log2(i)\n",
        "        dec /= 1e3\n",
        "        eps -= dec\n",
        "    \n",
        "    if done: \n",
        "        state = preproc_state(env.reset())\n",
        "        done = False"
      ],
      "metadata": {
        "colab": {
          "base_uri": "https://localhost:8080/"
        },
        "id": "sBsa-kl04nLT",
        "outputId": "bf062d12-0829-4bba-ca92-e20b11586030"
      },
      "execution_count": 69,
      "outputs": [
        {
          "output_type": "stream",
          "name": "stderr",
          "text": [
            "100%|██████████| 1300/1300 [01:27<00:00, 14.83it/s]\n"
          ]
        }
      ]
    },
    {
      "cell_type": "code",
      "source": [
        "import seaborn as sns\n",
        "sns.set_theme()\n",
        "\n",
        "scores = []\n",
        "for i in tqdm(range(100)):\n",
        "  state = preproc_state(env.reset())\n",
        "  done = False\n",
        "  total = 0\n",
        "  while done != True:\n",
        "    pred = dist_dqn(state, theta, aspace = aspace)\n",
        "    action = get_action(pred.unsqueeze(dim=0).detach(), support).item()\n",
        "    (state, reward, done, info) = env.step(action)\n",
        "    total += reward\n",
        "    state = preproc_state(state)\n",
        "  scores.append(total)\n",
        "sns.relplot(data=scores, kind=\"line\").set(xlabel='epochs', ylabel='score')"
      ],
      "metadata": {
        "colab": {
          "base_uri": "https://localhost:8080/",
          "height": 401
        },
        "id": "HVgD60l8ku5K",
        "outputId": "5a099474-1926-47de-ce4a-f8f9134ad19b"
      },
      "execution_count": 71,
      "outputs": [
        {
          "output_type": "stream",
          "name": "stderr",
          "text": [
            "100%|██████████| 100/100 [07:01<00:00,  4.22s/it]\n"
          ]
        },
        {
          "output_type": "execute_result",
          "data": {
            "text/plain": [
              "<seaborn.axisgrid.FacetGrid at 0x7f8afec95810>"
            ]
          },
          "metadata": {},
          "execution_count": 71
        },
        {
          "output_type": "display_data",
          "data": {
            "image/png": "[encoded data removed]",
            "text/plain": [
              "<Figure size 360x360 with 1 Axes>"
            ]
          },
          "metadata": {}
        }
      ]
    }
  ]
}