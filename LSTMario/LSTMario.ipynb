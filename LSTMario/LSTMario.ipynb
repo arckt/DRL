{
  "nbformat": 4,
  "nbformat_minor": 0,
  "metadata": {
    "colab": {
      "name": "Untitled14.ipynb",
      "provenance": []
    },
    "kernelspec": {
      "name": "python3",
      "display_name": "Python 3"
    },
    "language_info": {
      "name": "python"
    }
  },
  "cells": [
    {
      "cell_type": "code",
      "execution_count": 1,
      "metadata": {
        "colab": {
          "base_uri": "https://localhost:8080/"
        },
        "id": "mDY_KHZZTs5f",
        "outputId": "4a817cf2-4b6b-462e-9066-b8f42b1de4ef"
      },
      "outputs": [
        {
          "output_type": "stream",
          "name": "stdout",
          "text": [
            "Collecting gym-super-mario-bros\n",
            "  Downloading gym_super_mario_bros-7.3.2-py2.py3-none-any.whl (198 kB)\n",
            "\u001b[K     |████████████████████████████████| 198 kB 4.1 MB/s \n",
            "\u001b[?25hCollecting nes-py>=8.1.2\n",
            "  Downloading nes_py-8.1.8.tar.gz (76 kB)\n",
            "\u001b[K     |████████████████████████████████| 76 kB 3.2 MB/s \n",
            "\u001b[?25hRequirement already satisfied: gym>=0.17.2 in /usr/local/lib/python3.7/dist-packages (from nes-py>=8.1.2->gym-super-mario-bros) (0.17.3)\n",
            "Requirement already satisfied: numpy>=1.18.5 in /usr/local/lib/python3.7/dist-packages (from nes-py>=8.1.2->gym-super-mario-bros) (1.19.5)\n",
            "Requirement already satisfied: pyglet<=1.5.11,>=1.4.0 in /usr/local/lib/python3.7/dist-packages (from nes-py>=8.1.2->gym-super-mario-bros) (1.5.0)\n",
            "Requirement already satisfied: tqdm>=4.48.2 in /usr/local/lib/python3.7/dist-packages (from nes-py>=8.1.2->gym-super-mario-bros) (4.62.3)\n",
            "Requirement already satisfied: scipy in /usr/local/lib/python3.7/dist-packages (from gym>=0.17.2->nes-py>=8.1.2->gym-super-mario-bros) (1.4.1)\n",
            "Requirement already satisfied: cloudpickle<1.7.0,>=1.2.0 in /usr/local/lib/python3.7/dist-packages (from gym>=0.17.2->nes-py>=8.1.2->gym-super-mario-bros) (1.3.0)\n",
            "Requirement already satisfied: future in /usr/local/lib/python3.7/dist-packages (from pyglet<=1.5.11,>=1.4.0->nes-py>=8.1.2->gym-super-mario-bros) (0.16.0)\n",
            "Building wheels for collected packages: nes-py\n",
            "  Building wheel for nes-py (setup.py) ... \u001b[?25l\u001b[?25hdone\n",
            "  Created wheel for nes-py: filename=nes_py-8.1.8-cp37-cp37m-linux_x86_64.whl size=437428 sha256=23c8fc67c1d2e0798ec26cb830a9b13877b6d4094e773d60f7ed12764eaa15ee\n",
            "  Stored in directory: /root/.cache/pip/wheels/f2/05/1f/608f15ab43187096eb5f3087506419c2d9772e97000f3ba025\n",
            "Successfully built nes-py\n",
            "Installing collected packages: nes-py, gym-super-mario-bros\n",
            "Successfully installed gym-super-mario-bros-7.3.2 nes-py-8.1.8\n"
          ]
        }
      ],
      "source": [
        "! pip install gym-super-mario-bros"
      ]
    },
    {
      "cell_type": "code",
      "source": [
        "from skimage.transform import resize\n",
        "import numpy as np\n",
        "\n",
        "def downscale_obs(obs, new_size=(42, 42), to_gray=True):\n",
        "  if to_gray:\n",
        "    return resize(obs, new_size, anti_aliasing=True).max(axis=2)\n",
        "  else:\n",
        "    return resize(obs, new_size, anti_aliasing=True)"
      ],
      "metadata": {
        "id": "EiJDbiRLoVvH"
      },
      "execution_count": 2,
      "outputs": []
    },
    {
      "cell_type": "code",
      "source": [
        "import torch\n",
        "from torch import nn\n",
        "from torch import optim\n",
        "import torch.nn.functional as F\n",
        "from collections import deque\n",
        "\n",
        "def prepare_state(state):\n",
        "  return torch.from_numpy(downscale_obs(state)).float().unsqueeze(dim=0)\n",
        "\n",
        "def prepare_multi_state(state1, state2):\n",
        "  state1 = state1.clone()\n",
        "  tmp = prepare_state(state2).squeeze(dim=0)\n",
        "  state1[0][0] = state1[0][1]\n",
        "  state1[0][1] = state1[0][2]\n",
        "  state1[0][2] = tmp\n",
        "  return state1\n",
        "\n",
        "def prepare_initial_state(state, N=3):\n",
        "  state_ = prepare_state(state).squeeze(dim=0)\n",
        "  tmp = state_.repeat((N,1,1))\n",
        "  return tmp.unsqueeze(dim=0)"
      ],
      "metadata": {
        "id": "89xskeY50C9q"
      },
      "execution_count": 3,
      "outputs": []
    },
    {
      "cell_type": "code",
      "source": [
        "def policy(qvalues, eps=None):\n",
        "  if eps is not None:\n",
        "    if torch.rand(1) < eps:\n",
        "      return torch.randint(low=0, high=7, size=(1,))\n",
        "    else:\n",
        "      return torch.argmax(qvalues)\n",
        "  else:\n",
        "    return torch.multinomial(F.softmax(F.normalize(qvalues), dim=1), num_samples=1)\n",
        "\n",
        "def genFilter(kSize, inChan, outChan, stride):\n",
        "  filter = torch.randn(outChan, inChan, kSize, kSize).float()\n",
        "  return filter / torch.sqrt(torch.sum(filter * filter))"
      ],
      "metadata": {
        "id": "cabKuAwE2ZwI"
      },
      "execution_count": 4,
      "outputs": []
    },
    {
      "cell_type": "code",
      "source": [
        "from random import shuffle\n",
        "\n",
        "class ExperienceReplay:\n",
        "  def __init__(self, N=500, batch_size=100):\n",
        "    self.N = N\n",
        "    self.batch_size = batch_size\n",
        "    self.memory = []\n",
        "    self.counter = 0\n",
        "\n",
        "  def add_memory(self, state1, action, reward, state2):\n",
        "    self.counter += 1\n",
        "    if self.counter % 500 == 0:\n",
        "      self.shuffle_memory()\n",
        "\n",
        "    if len(self.memory) < self.N:\n",
        "      self.memory.append((state1, action, reward, state2))\n",
        "    else:\n",
        "      rand_index = np.random.randint(0, self.N-1)\n",
        "      self.memory[rand_index] = (state1, action, reward, state2)\n",
        "  \n",
        "  def shuffle_memory(self):\n",
        "    shuffle(self.memory)\n",
        "\n",
        "  def get_batch(self):\n",
        "    batch_size = 0\n",
        "    if len(self.memory) < self.batch_size:\n",
        "      batch_size = len(self.memory)\n",
        "    else:\n",
        "      batch_size = self.batch_size\n",
        "    \n",
        "    if len(self.memory) < 1:\n",
        "      print(\"Error: No data in memory\")\n",
        "      return None\n",
        "    \n",
        "    ind = np.random.choice(np.arange(len(self.memory)), batch_size, replace=False)\n",
        "    batch = [self.memory[i] for i in ind]\n",
        "    state1_batch = torch.stack([x[0].squeeze(dim=0) for x in batch], dim=0)\n",
        "    action_batch = torch.Tensor([x[1] for x in batch])\n",
        "    reward_batch = torch.Tensor([x[2] for x in batch])\n",
        "    state2_batch = torch.stack([x[3].squeeze(dim=0) for x in batch], dim=0)\n",
        "    return state1_batch, action_batch, reward_batch, state2_batch"
      ],
      "metadata": {
        "id": "9NfIDqkf8PBd"
      },
      "execution_count": 5,
      "outputs": []
    },
    {
      "cell_type": "code",
      "source": [
        "class Phi(nn.Module):\n",
        "  def __init__(self):\n",
        "    super(Phi, self).__init__()\n",
        "    self.conv1 = nn.Conv2d(3, 32, kernel_size=(3,3), stride=2, padding=1, bias=False)\n",
        "    self.conv2 = nn.Conv2d(32, 32, kernel_size=(3,3), stride=2, padding=1, bias=False)\n",
        "    self.conv3 = nn.Conv2d(32, 32, kernel_size=(3,3), stride=2, padding=1, bias=False)\n",
        "    self.conv4 = nn.Conv2d(32, 32, kernel_size=(3,3), stride=2, padding=1, bias=False)\n",
        "    self.conv1.weight.data = genFilter(3, 3, 32, 2)\n",
        "    self.conv2.weight.data = genFilter(3, 32, 32, 2)\n",
        "    self.conv3.weight.data = genFilter(3, 32, 32, 2)\n",
        "    self.conv4.weight.data = genFilter(3, 32, 32, 2)\n",
        "    self.conv1.weight.requires_grad = False\n",
        "    self.conv2.weight.requires_grad = False\n",
        "    self.conv3.weight.requires_grad = False\n",
        "    self.conv4.weight.requires_grad = False\n",
        "  \n",
        "  def forward(self, x):\n",
        "    x = F.normalize(x)\n",
        "    y = F.elu(self.conv1(x))\n",
        "    y = F.elu(self.conv2(y))\n",
        "    y = F.elu(self.conv3(y))\n",
        "    y = F.elu(self.conv4(y))\n",
        "    y = y.flatten(start_dim=1)\n",
        "    return y\n",
        "\n",
        "class Fnet(nn.Module):\n",
        "  def __init__(self):\n",
        "    super(Fnet, self).__init__()\n",
        "    self.linear1 = nn.Linear(300, 256)\n",
        "    self.linear2 = nn.Linear(256, 288)\n",
        "\n",
        "  def forward(self, state, action):\n",
        "    action_ = torch.zeros(action.shape[0], 12)\n",
        "    indices = torch.stack((torch.arange(action.shape[0]), action.squeeze()), dim=0)\n",
        "    indices = indices.tolist()\n",
        "    action_[indices] = 1.\n",
        "    x = torch.cat((state, action_), dim=1)\n",
        "    y = F.relu(self.linear1(x))\n",
        "    y = self.linear2(y)\n",
        "    return y"
      ],
      "metadata": {
        "id": "3BRbepWfDvlH"
      },
      "execution_count": 6,
      "outputs": []
    },
    {
      "cell_type": "code",
      "source": [
        "class Qnetwork(nn.Module):\n",
        "    def __init__(self):\n",
        "        super(Qnetwork, self).__init__()\n",
        "        self.conv1 = nn.Conv2d(in_channels=3, out_channels=32, kernel_size=(3,3), stride=2, padding=1)\n",
        "        self.conv2 = nn.Conv2d(32, 32, kernel_size=(3,3), stride=2, padding=1)\n",
        "        self.conv3 = nn.Conv2d(32, 32, kernel_size=(3,3), stride=2, padding=1)\n",
        "        self.conv4 = nn.Conv2d(32, 32, kernel_size=(3,3), stride=2, padding=1)\n",
        "        self.rnn = nn.LSTM(9, 5, 1, batch_first=True)\n",
        "        self.linear1 = nn.Linear(160,100)\n",
        "        self.linear2 = nn.Linear(100,12)\n",
        "        \n",
        "    def forward(self,x):\n",
        "        x = F.normalize(x)\n",
        "        y = F.elu(self.conv1(x))\n",
        "        y = F.elu(self.conv2(y))\n",
        "        y = F.elu(self.conv3(y))\n",
        "        y = F.elu(self.conv4(y))\n",
        "        y = y.flatten(start_dim=2)\n",
        "        y = F.elu(self.rnn(y)[0])\n",
        "        y = y.flatten(start_dim=1)\n",
        "        y = F.elu(self.linear1(y))\n",
        "        y = self.linear2(y)\n",
        "        return y"
      ],
      "metadata": {
        "id": "fOt75dMzCUM3"
      },
      "execution_count": 7,
      "outputs": []
    },
    {
      "cell_type": "code",
      "source": [
        "import gym\n",
        "from nes_py.wrappers import JoypadSpace\n",
        "import gym_super_mario_bros\n",
        "from gym_super_mario_bros.actions import SIMPLE_MOVEMENT, COMPLEX_MOVEMENT\n",
        "from tqdm import tqdm\n",
        "\n",
        "env = gym_super_mario_bros.make('SuperMarioBros-v0')\n",
        "env = JoypadSpace(env, COMPLEX_MOVEMENT)\n",
        "\n",
        "batch_size = 150\n",
        "beta = 0.2\n",
        "lam = 0.1\n",
        "eta = 1.0\n",
        "gamma = 0.2\n",
        "max_episode_len = 100\n",
        "min_progress = 15\n",
        "action_repeats = 6\n",
        "frames_per_state = 3\n",
        "\n",
        "replay = ExperienceReplay(N=1000, batch_size=batch_size)\n",
        "Qmodel = Qnetwork()\n",
        "encoder = Phi()\n",
        "forward_model = Fnet()\n",
        "forward_loss = nn.MSELoss(reduction='none')\n",
        "inverse_loss = nn.CrossEntropyLoss(reduction='none')\n",
        "qloss = nn.MSELoss()\n",
        "all_model_params = list(Qmodel.parameters()) + list(forward_model.parameters())\n",
        "opt = optim.Adam(lr=0.001, params=all_model_params)"
      ],
      "metadata": {
        "id": "ZL5IHqzOp2Xt"
      },
      "execution_count": 8,
      "outputs": []
    },
    {
      "cell_type": "code",
      "source": [
        "def loss_fn(q_loss, forward_loss):\n",
        "  loss = beta * forward_loss\n",
        "  loss = loss.sum() / loss.flatten().shape[0]\n",
        "  loss = loss + lam * q_loss\n",
        "  return loss\n",
        "\n",
        "def reset_env(env):\n",
        "  env.reset()\n",
        "  state1 = prepare_initial_state(env.render('rgb_array'))\n",
        "  return state1"
      ],
      "metadata": {
        "id": "pkrTnhUN3Xxj"
      },
      "execution_count": 9,
      "outputs": []
    },
    {
      "cell_type": "code",
      "source": [
        "def ICM(state1, action, state2, forward_scale=1.):\n",
        "  state1_hat = encoder(state1)\n",
        "  state2_hat = encoder(state2)\n",
        "  state2_hat_pred = forward_model(state1_hat.detach(), action.detach())\n",
        "  forward_pred_error = forward_scale * forward_loss(state2_hat_pred, state2_hat.detach()).sum(dim=1).unsqueeze(dim=1)\n",
        "  return forward_pred_error"
      ],
      "metadata": {
        "id": "LMvDp5sp6zmI"
      },
      "execution_count": 10,
      "outputs": []
    },
    {
      "cell_type": "code",
      "source": [
        "def minibatch_train(replay, use_extrinsic=True):\n",
        "    state1_batch, action_batch, reward_batch, state2_batch = replay.get_batch()\n",
        "    action_batch = action_batch.view(action_batch.shape[0], 1)\n",
        "    reward_batch = reward_batch.view(reward_batch.shape[0], 1)\n",
        "    forward_pred_error = ICM(state1_batch, action_batch, state2_batch)\n",
        "    i_reward = (1. / eta) * forward_pred_error\n",
        "    reward = i_reward.detach()\n",
        "    if use_extrinsic:\n",
        "      reward += reward_batch\n",
        "    qvals = Qmodel(state2_batch)\n",
        "    reward += gamma * torch.max(qvals)\n",
        "    reward_pred = Qmodel(state1_batch)\n",
        "    reward_target = reward_pred.clone()\n",
        "    indices = torch.stack((torch.arange(action_batch.shape[0]), action_batch.squeeze()), dim=0)\n",
        "    indices = indices.tolist()\n",
        "    reward_target[indices] = reward.squeeze()\n",
        "    q_loss = 1e5 * qloss(F.normalize(reward_pred), F.normalize(reward_target.detach()))\n",
        "    return forward_pred_error, q_loss"
      ],
      "metadata": {
        "id": "NToXMwyk24e_"
      },
      "execution_count": 11,
      "outputs": []
    },
    {
      "cell_type": "code",
      "source": [
        "epochs = 3500\n",
        "state1 = reset_env(env)\n",
        "eps = 0.15\n",
        "losses = []\n",
        "episode_length = 0\n",
        "switch_to_eps_greedy = 1000\n",
        "state_deque = deque(maxlen=frames_per_state)\n",
        "e_reward = 0.\n",
        "last_x_pos = env.env.env._x_position\n",
        "ep_lengths = []\n",
        "use_extrinsic = False\n",
        "for i in tqdm(range(epochs)):\n",
        "  opt.zero_grad()\n",
        "  episode_length += 1 \n",
        "  q_val_pred = Qmodel(state1)\n",
        "  if i > switch_to_eps_greedy:\n",
        "    action = int(policy(q_val_pred, eps))\n",
        "  else:\n",
        "    action = int(policy(q_val_pred))\n",
        "  for j in range(action_repeats):\n",
        "    state2, e_reward_, done, info = env.step(action)\n",
        "    last_x_pos = info['x_pos']\n",
        "    if done:\n",
        "      state1 = reset_env(env)\n",
        "      break\n",
        "    e_reward += e_reward_\n",
        "    state_deque.append(prepare_state(state2))\n",
        "  state2 = torch.stack(list(state_deque), dim=1)\n",
        "  replay.add_memory(state1, action, e_reward, state2)\n",
        "  e_reward = 0\n",
        "  if episode_length > max_episode_len:\n",
        "    if (info['x_pos'] - last_x_pos) < min_progress:\n",
        "      done = True\n",
        "    else:\n",
        "      last_x_pos = info['x_pos']\n",
        "  if done:\n",
        "    ep_lengths.append(info['x_pos'])\n",
        "    state1 = reset_env(env)\n",
        "    last_x_pos = env.env.env._x_position\n",
        "    episode_length = 0\n",
        "  else:\n",
        "    state1 = state2\n",
        "  if len(replay.memory) < batch_size:\n",
        "    continue\n",
        "  forward_pred_err, q_loss = minibatch_train(replay, use_extrinsic=False)\n",
        "  loss = loss_fn(q_loss, forward_pred_err)\n",
        "  loss_list = (q_loss.mean(), forward_pred_err.flatten().mean())\n",
        "  losses.append(loss_list)\n",
        "  loss.backward()\n",
        "  opt.step()"
      ],
      "metadata": {
        "colab": {
          "base_uri": "https://localhost:8080/"
        },
        "id": "WYeZWGmzcIms",
        "outputId": "538d6b88-452e-4b4d-df19-7fbae36f890f"
      },
      "execution_count": 12,
      "outputs": [
        {
          "output_type": "stream",
          "name": "stderr",
          "text": [
            "100%|██████████| 3500/3500 [29:14<00:00,  1.99it/s]\n"
          ]
        }
      ]
    },
    {
      "cell_type": "code",
      "source": [
        "import seaborn as sns\n",
        "sns.set_theme()\n",
        "sns.relplot(data=ep_lengths, kind=\"line\").set(xlabel='training time', ylabel='x position')"
      ],
      "metadata": {
        "colab": {
          "base_uri": "https://localhost:8080/",
          "height": 384
        },
        "id": "SlvpvRi_H8tB",
        "outputId": "743aa0a5-28ea-4f70-991b-649822cb564d"
      },
      "execution_count": 14,
      "outputs": [
        {
          "output_type": "execute_result",
          "data": {
            "text/plain": [
              "<seaborn.axisgrid.FacetGrid at 0x7f2462d79150>"
            ]
          },
          "metadata": {},
          "execution_count": 14
        },
        {
          "output_type": "display_data",
          "data": {
            "image/png": "[encoded data removed]",
            "text/plain": [
              "<Figure size 360x360 with 1 Axes>"
            ]
          },
          "metadata": {}
        }
      ]
    }
  ]
}