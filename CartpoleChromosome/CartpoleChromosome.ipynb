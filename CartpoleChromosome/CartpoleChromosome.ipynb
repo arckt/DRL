{
  "nbformat": 4,
  "nbformat_minor": 0,
  "metadata": {
    "colab": {
      "name": "Untitled9.ipynb",
      "provenance": []
    },
    "kernelspec": {
      "name": "python3",
      "display_name": "Python 3"
    },
    "language_info": {
      "name": "python"
    }
  },
  "cells": [
    {
      "cell_type": "code",
      "metadata": {
        "id": "zroqWsyO5M6X"
      },
      "source": [
        "import numpy as np\n",
        "import torch\n",
        "\n",
        "layers = [(25,4),(10,25),(2,10)]\n",
        "\n",
        "def model(x, unpacked_params):\n",
        "  l1, b1, l2, b2, l3, b3 = unpacked_params\n",
        "  y = torch.nn.functional.linear(x, l1, b1)\n",
        "  y = torch.relu(y)\n",
        "  y = torch.nn.functional.linear(y, l2, b2)\n",
        "  y = torch.relu(y)\n",
        "  y = torch.nn.functional.linear(y, l3, b3)\n",
        "  y = torch.log_softmax(y, dim=0)\n",
        "  return y\n",
        "\n",
        "def unpack_params(params, layers=layers):\n",
        "  unpacked_params = []\n",
        "  e = 0\n",
        "  for i, l in enumerate(layers):\n",
        "    s, e = e, e+np.prod(l)\n",
        "    weights = params[s:e].view(l)\n",
        "    s, e = e, e+l[0]\n",
        "    bias = params[s:e]\n",
        "    unpacked_params.extend([weights, bias])\n",
        "  return unpacked_params\n",
        "\n",
        "def spawn_population(N=50, size=407):\n",
        "  pop = []\n",
        "  for i in range(N):\n",
        "    vec = torch.randn(size) / 2.0\n",
        "    fit = 0\n",
        "    p = {'params':vec, 'fitness':fit}\n",
        "    pop.append(p)\n",
        "  return pop\n",
        "\n",
        "def recombine(x1, x2):\n",
        "  x1 = x1['params']\n",
        "  x2 = x2['params']\n",
        "  e = 0\n",
        "  length = len(x1)\n",
        "  child1 = torch.zeros(length)\n",
        "  child2 = torch.zeros(length)\n",
        "  \n",
        "  for i, l in enumerate(layers):\n",
        "    s, e = e, e+np.prod(l)+l[0]\n",
        "    split_pt = s + np.random.randint(e - s)\n",
        "    child1[s:split_pt] = x1[s:split_pt]\n",
        "    child1[split_pt:] = x2[split_pt:]\n",
        "    child2[s:split_pt] = x2[s:split_pt]\n",
        "    child2[split_pt:] = x1[split_pt:]\n",
        "    \n",
        "  c1 = {'params':child1, 'fitness':0.0}\n",
        "  c2 = {'params':child2, 'fitness':0.0}\n",
        "  return c1, c2\n",
        "\n",
        "def mutate(x, rate=0.01):\n",
        "  x_ = x['params']\n",
        "  num_to_change = int(rate * x_.shape[0])\n",
        "  idx = np.random.randint(low=0, high=x_.shape[0], size=(num_to_change,))\n",
        "  x_[idx] = torch.randn(num_to_change) / 10.0\n",
        "  x['params'] = x_\n",
        "  return x"
      ],
      "execution_count": 1,
      "outputs": []
    },
    {
      "cell_type": "code",
      "metadata": {
        "id": "o_I24rUpq_WX"
      },
      "source": [
        "import gym\n",
        "\n",
        "env = gym.make(\"CartPole-v0\")\n",
        "\n",
        "def test_model(agent):\n",
        "  done = False\n",
        "  state = torch.from_numpy(env.reset()).float()\n",
        "  score = 0\n",
        "  while not done:\n",
        "    params = unpack_params(agent['params'])\n",
        "    probs = model(state, params)\n",
        "    action = torch.distributions.Categorical(probs=probs).sample()\n",
        "    state_, reward, done, info = env.step(action.item())\n",
        "    state = torch.from_numpy(state_).float()\n",
        "    score += 1\n",
        "  return score\n",
        "\n",
        "def evaluate_population(pop):\n",
        "  tot_fit = 0\n",
        "  lp = len(pop)\n",
        "  for agent in pop:\n",
        "    score = test_model(agent)\n",
        "    agent['fitness'] = score\n",
        "    tot_fit += score\n",
        "  avg_fit = tot_fit / lp\n",
        "  return pop, avg_fit\n",
        "\n",
        "def next_generation(pop, mut_rate=0.001, tournament_size = 0.2):\n",
        "  new_pop = []\n",
        "  lp = len(pop)\n",
        "  while len(new_pop) < len(pop):\n",
        "    rids = np.random.randint(low=0, high=lp, size=(int(tournament_size * lp)))\n",
        "    batch = np.array([[i, x['fitness']] for (i, x) in enumerate(pop) if i in rids])\n",
        "    scores = batch[batch[:, 1].argsort()]\n",
        "    i0, i1 = int(scores[-1][0]), int(scores[-2][0])\n",
        "    parent0, parent1 = pop[i0], pop[i1]\n",
        "    offspring_ = recombine(parent0, parent1)\n",
        "    child1 = mutate(offspring_[0], rate=mut_rate)\n",
        "    child2 = mutate(offspring_[1], rate=mut_rate)\n",
        "    offspring = [child1, child2]\n",
        "    new_pop.extend(offspring)\n",
        "  return new_pop"
      ],
      "execution_count": 2,
      "outputs": []
    },
    {
      "cell_type": "code",
      "metadata": {
        "colab": {
          "base_uri": "https://localhost:8080/"
        },
        "id": "OKe7OOHbxYMy",
        "outputId": "7377d3a8-8c82-4029-a0c4-2fd8711af720"
      },
      "source": [
        "from tqdm import tqdm\n",
        "\n",
        "num_generations = 25\n",
        "population_size = 500\n",
        "mutation_rate = 0.01\n",
        "pop_fit = []\n",
        "pop = spawn_population(N=population_size,size=407)\n",
        "for i in tqdm(range(num_generations)):\n",
        "  pop, avg_fit = evaluate_population(pop)\n",
        "  pop_fit.append(avg_fit)\n",
        "  pop = next_generation(pop, mut_rate=mutation_rate, tournament_size=0.2)"
      ],
      "execution_count": 3,
      "outputs": [
        {
          "output_type": "stream",
          "name": "stderr",
          "text": [
            "100%|██████████| 25/25 [08:48<00:00, 21.13s/it]\n"
          ]
        }
      ]
    },
    {
      "cell_type": "code",
      "metadata": {
        "colab": {
          "base_uri": "https://localhost:8080/",
          "height": 383
        },
        "id": "-tBXIDbJ5wb7",
        "outputId": "feaf0347-3ddb-4804-e05b-a5f848e9d656"
      },
      "source": [
        "import seaborn as sns\n",
        "sns.set_theme()\n",
        "sns.relplot(data=pop_fit, kind=\"line\").set(xlabel='generations', ylabel='score')"
      ],
      "execution_count": 4,
      "outputs": [
        {
          "output_type": "execute_result",
          "data": {
            "text/plain": [
              "<seaborn.axisgrid.FacetGrid at 0x7f006ec27f90>"
            ]
          },
          "metadata": {},
          "execution_count": 4
        },
        {
          "output_type": "display_data",
          "data": {
            "image/png": "[encoded data removed]",
            "text/plain": [
              "<Figure size 360x360 with 1 Axes>"
            ]
          },
          "metadata": {}
        }
      ]
    }
  ]
}