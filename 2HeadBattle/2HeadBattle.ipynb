{
  "nbformat": 4,
  "nbformat_minor": 0,
  "metadata": {
    "colab": {
      "name": "Untitled15.ipynb",
      "provenance": []
    },
    "kernelspec": {
      "name": "python3",
      "display_name": "Python 3"
    },
    "language_info": {
      "name": "python"
    }
  },
  "cells": [
    {
      "cell_type": "code",
      "source": [
        "! mkdir MAgent && cd MAgent && mkdir build && cd build && mkdir render && cd render && cd ../../.."
      ],
      "metadata": {
        "id": "7jbmHOo_76CO"
      },
      "execution_count": 1,
      "outputs": []
    },
    {
      "cell_type": "code",
      "source": [
        "! pip install pettingzoo[magent]"
      ],
      "metadata": {
        "colab": {
          "base_uri": "https://localhost:8080/"
        },
        "id": "rg7bnGCjAKy9",
        "outputId": "d0676567-bdf1-47db-a6af-f48825c25345"
      },
      "execution_count": 2,
      "outputs": [
        {
          "output_type": "stream",
          "name": "stdout",
          "text": [
            "Collecting pettingzoo[magent]\n",
            "  Downloading PettingZoo-1.14.0.tar.gz (756 kB)\n",
            "\u001b[K     |████████████████████████████████| 756 kB 9.2 MB/s \n",
            "\u001b[?25hRequirement already satisfied: numpy>=1.18.0 in /usr/local/lib/python3.7/dist-packages (from pettingzoo[magent]) (1.19.5)\n",
            "Collecting gym>=0.21.0\n",
            "  Downloading gym-0.21.0.tar.gz (1.5 MB)\n",
            "\u001b[K     |████████████████████████████████| 1.5 MB 48.9 MB/s \n",
            "\u001b[?25hCollecting magent==0.1.14\n",
            "  Downloading magent-0.1.14-cp37-cp37m-manylinux_2_12_x86_64.manylinux2010_x86_64.whl (1.7 MB)\n",
            "\u001b[K     |████████████████████████████████| 1.7 MB 43.9 MB/s \n",
            "\u001b[?25hCollecting pygame>=2.0.0\n",
            "  Downloading pygame-2.1.2-cp37-cp37m-manylinux_2_17_x86_64.manylinux2014_x86_64.whl (21.8 MB)\n",
            "\u001b[K     |████████████████████████████████| 21.8 MB 1.4 MB/s \n",
            "\u001b[?25hRequirement already satisfied: cloudpickle>=1.2.0 in /usr/local/lib/python3.7/dist-packages (from gym>=0.21.0->pettingzoo[magent]) (1.3.0)\n",
            "Requirement already satisfied: importlib_metadata>=4.8.1 in /usr/local/lib/python3.7/dist-packages (from gym>=0.21.0->pettingzoo[magent]) (4.8.2)\n",
            "Requirement already satisfied: zipp>=0.5 in /usr/local/lib/python3.7/dist-packages (from importlib_metadata>=4.8.1->gym>=0.21.0->pettingzoo[magent]) (3.6.0)\n",
            "Requirement already satisfied: typing-extensions>=3.6.4 in /usr/local/lib/python3.7/dist-packages (from importlib_metadata>=4.8.1->gym>=0.21.0->pettingzoo[magent]) (3.10.0.2)\n",
            "Building wheels for collected packages: pettingzoo, gym\n",
            "  Building wheel for pettingzoo (setup.py) ... \u001b[?25l\u001b[?25hdone\n",
            "  Created wheel for pettingzoo: filename=PettingZoo-1.14.0-py3-none-any.whl size=874226 sha256=edd884290f011853be3cddc38a47e7f8f10b77b1080b10e10082cdfbf681e11c\n",
            "  Stored in directory: /root/.cache/pip/wheels/9e/a7/ad/c4d2a42ddfb4b6ceb16a0ca730ae46d8621233408522053338\n",
            "  Building wheel for gym (setup.py) ... \u001b[?25l\u001b[?25hdone\n",
            "  Created wheel for gym: filename=gym-0.21.0-py3-none-any.whl size=1616820 sha256=20ce471e5f766e62d3b91f2d0cf74575602fd474257a41b1ef44e23474e32449\n",
            "  Stored in directory: /root/.cache/pip/wheels/76/ee/9c/36bfe3e079df99acf5ae57f4e3464ff2771b34447d6d2f2148\n",
            "Successfully built pettingzoo gym\n",
            "Installing collected packages: pygame, gym, pettingzoo, magent\n",
            "  Attempting uninstall: gym\n",
            "    Found existing installation: gym 0.17.3\n",
            "    Uninstalling gym-0.17.3:\n",
            "      Successfully uninstalled gym-0.17.3\n",
            "Successfully installed gym-0.21.0 magent-0.1.14 pettingzoo-1.14.0 pygame-2.1.2\n"
          ]
        }
      ]
    },
    {
      "cell_type": "code",
      "source": [
        "import torch\n",
        "from collections import deque\n",
        "from random import shuffle\n",
        "\n",
        "def gen_params(N,size):\n",
        "  ret = []\n",
        "  for i in range(N):\n",
        "    vec = torch.randn(size) / 10.\n",
        "    vec.requires_grad = True\n",
        "    ret.append(vec)\n",
        "  return ret\n",
        "\n",
        "def softmax_policy(qvals,temp=0.9):\n",
        "    soft = torch.exp(qvals/temp) / torch.sum(torch.exp(qvals/temp))\n",
        "    action = torch.multinomial(soft,1)\n",
        "    return action"
      ],
      "metadata": {
        "id": "xQRM2pyvEVez"
      },
      "execution_count": 3,
      "outputs": []
    },
    {
      "cell_type": "code",
      "source": [
        "import magent\n",
        "import numpy as np\n",
        "import math\n",
        "from scipy.spatial.distance import cityblock\n",
        "\n",
        "map_size = 30\n",
        "env = magent.GridWorld(\"battle\", map_size=map_size)\n",
        "env.set_render_dir(\"MAgent/build/render\")\n",
        "team1, team2 = env.get_handles()"
      ],
      "metadata": {
        "id": "uaHuM4ku3Swc"
      },
      "execution_count": 4,
      "outputs": []
    },
    {
      "cell_type": "code",
      "source": [
        "hid_layer = 25\n",
        "in_state = 338\n",
        "in_mean = 21\n",
        "act_space = 21\n",
        "layers = [(in_state, 160), (in_mean, 10), (170, hid_layer), (hid_layer, act_space)]\n",
        "params = gen_params(2, in_state * 160 + in_mean * 10 +  170 * hid_layer + hid_layer * act_space)\n",
        "map_size = 30\n",
        "width = height = map_size\n",
        "n1 = n2 = 16\n",
        "gap = 1\n",
        "epochs = 100\n",
        "replay_size = 70\n",
        "batch_size = 25\n",
        "\n",
        "side1 = int(math.sqrt(n1)) * 2\n",
        "pos1 = []\n",
        "for x in range(width//2 - gap - side1, width//2 - gap, 2):\n",
        "  for y in range((height - side1)//2, (height - side1)//2 + side1, 2):\n",
        "    pos1.append([x, y, 0])\n",
        "\n",
        "side2 = int(math.sqrt(n1)) * 2\n",
        "pos2 = []\n",
        "for x in range(width//2 + gap, width//2 + gap + side2, 2):\n",
        "  for y in range((height - side2)//2, (height - side2)//2 + side2, 2):\n",
        "    pos2.append([x, y, 0])\n",
        "\n",
        "env.reset()\n",
        "env.add_agents(team1, method=\"custom\", pos=pos1)\n",
        "env.add_agents(team2, method=\"custom\", pos=pos2)"
      ],
      "metadata": {
        "id": "wi9TaR5cDt53"
      },
      "execution_count": 5,
      "outputs": []
    },
    {
      "cell_type": "code",
      "source": [
        "def qfunc(s,theta,layers=[(4,20),(20,2)],afn=torch.tanh):\n",
        "    state = s[:in_state]\n",
        "    mean = s[in_state:]\n",
        "    l1n = layers[0] \n",
        "    l1s = np.prod(l1n)\n",
        "    theta_1 = theta[0:l1s].reshape(l1n)\n",
        "\n",
        "    l2n = layers[1]\n",
        "    l2s = np.prod(l2n)\n",
        "    theta_2 = theta[l1s:l2s+l1s].reshape(l2n)\n",
        "\n",
        "    l3n = layers[2]\n",
        "    l3s = np.prod(l3n)\n",
        "    theta_3 = theta[l2s+l1s:l3s+l2s+l1s].reshape(l3n)\n",
        "\n",
        "    l4n = layers[3]\n",
        "    l4s = np.prod(l4n)\n",
        "    theta_4 = theta[l3s+l2s+l1s:l4s+l3s+l2s+l1s].reshape(l4n)\n",
        "\n",
        "    bias1 = torch.ones((1,theta_1.shape[1]))\n",
        "    bias2 = torch.ones((1,theta_2.shape[1]))\n",
        "    bias3 = torch.ones((1,theta_3.shape[1]))\n",
        "\n",
        "    l1 = state @ theta_1 + bias1\n",
        "    l1 = torch.nn.functional.elu(l1)\n",
        "    l2 = mean @ theta_2 + bias2\n",
        "    l2 = torch.nn.functional.elu(l2)\n",
        "\n",
        "    l3 = torch.cat((l1, l2), 1)\n",
        "    l3 = l3 @ theta_3 + bias3\n",
        "\n",
        "    l4 = afn(l3 @ theta_4)\n",
        "\n",
        "    return l4.flatten()"
      ],
      "metadata": {
        "id": "-w3L_OC74FD4"
      },
      "execution_count": 31,
      "outputs": []
    },
    {
      "cell_type": "code",
      "source": [
        "def get_neighbors(j, pos_list, r=6):\n",
        "  neighbors = []\n",
        "  pos_j = pos_list[j]\n",
        "  for i, pos in enumerate(pos_list):\n",
        "    if i == j:\n",
        "      continue\n",
        "    dist = cityblock(pos, pos_j)\n",
        "    if dist < r:\n",
        "      neighbors.append(i)\n",
        "  return neighbors"
      ],
      "metadata": {
        "id": "X5VP_hTgBSja"
      },
      "execution_count": 7,
      "outputs": []
    },
    {
      "cell_type": "code",
      "source": [
        "def get_onehot(a, l=21):\n",
        "  x = torch.zeros(l)\n",
        "  x[a] = 1\n",
        "  return x\n",
        "\n",
        "def get_scalar(v):\n",
        "  return torch.argmax(v)\n",
        "\n",
        "def get_mean_field(j, pos_list, act_list, r=7, l=21):\n",
        "  neighbors = get_neighbors(j, pos_list, r=r)\n",
        "  mean_field = torch.zeros(l)\n",
        "  for k in neighbors:\n",
        "    act_ = act_list[k]\n",
        "    act = get_onehot(act_)\n",
        "    mean_field += act\n",
        "  tot = mean_field.sum()\n",
        "  mean_field = mean_field / tot if tot > 0 else mean_field\n",
        "  return mean_field"
      ],
      "metadata": {
        "id": "nMO5KsPNCUdo"
      },
      "execution_count": 8,
      "outputs": []
    },
    {
      "cell_type": "code",
      "source": [
        "def infer_acts(obs, param, layers, pos_list, acts, act_space=21, num_iter=5, temp=0.5):\n",
        "  N = acts.shape[0]\n",
        "  mean_fields = torch.zeros(N, act_space)\n",
        "  acts_ = acts.clone()\n",
        "  qvals = torch.zeros(N, act_space)\n",
        "\n",
        "  for i in range(num_iter):\n",
        "    for j in range(N):\n",
        "      mean_fields[j] = get_mean_field(j, pos_list, acts_)\n",
        "\n",
        "    for j in range(N):\n",
        "      state = torch.cat((obs[j].flatten(), mean_fields[j]))\n",
        "      qs = qfunc(state.detach(), param, layers=layers)\n",
        "      qvals[j, : ] = qs[:]\n",
        "      acts_[j] = softmax_policy(qs.detach(), temp=temp)\n",
        "  return acts_, mean_fields, qvals\n",
        "\n",
        "def init_mean_field(N, act_space=21):\n",
        "  mean_fields = torch.abs(torch.rand(N, act_space))\n",
        "  for i in range(mean_fields.shape[0]):\n",
        "    mean_fields[i] = mean_fields[i] / mean_fields[i].sum()\n",
        "  return mean_fields"
      ],
      "metadata": {
        "id": "Jrp8sv73FSYL"
      },
      "execution_count": 9,
      "outputs": []
    },
    {
      "cell_type": "code",
      "source": [
        "def train(batch_size, replay, param, layers, J=64, gamma=0.5, lr=0.001):\n",
        "  ids = np.random.randint(low=0, high=len(replay), size=batch_size)\n",
        "  exps = [replay[idx] for idx in ids]\n",
        "  losses = []\n",
        "  jobs = torch.stack([ex[0] for ex in exps]).detach()\n",
        "  jacts = torch.stack([ex[1] for ex in exps]).detach()\n",
        "  jrewards = torch.stack([ex[2] for ex in exps]).detach()\n",
        "  jmeans = torch.stack([ex[3] for ex in exps]).detach()\n",
        "  vs = torch.stack([ex[4] for ex in exps]).detach()\n",
        "  qs = []\n",
        "  for h in range(batch_size):\n",
        "    state = torch.cat((jobs[h].flatten(), jmeans[h]))\n",
        "    qs.append(qfunc(state.detach(), param, layers=layers))\n",
        "  qvals = torch.stack(qs)\n",
        "  target = qvals.clone().detach()\n",
        "  target[ : , jacts] = jrewards + gamma * torch.max(vs, dim=1)[0]\n",
        "  loss = torch.sum(torch.pow(qvals - target.detach(), 2))\n",
        "  losses.append(loss.detach().item())\n",
        "  loss.backward()\n",
        "  with torch.no_grad():\n",
        "    param = param - lr * param.grad\n",
        "  param.requires_grad = True\n",
        "  return np.array(losses).mean()"
      ],
      "metadata": {
        "id": "2WnQy83pT06G"
      },
      "execution_count": 24,
      "outputs": []
    },
    {
      "cell_type": "code",
      "source": [
        "N1 = env.get_num(team1)\n",
        "N2 = env.get_num(team2)\n",
        "acts_1 = torch.randint(low=0, high=act_space, size=(N1,))\n",
        "acts_2 = torch.randint(low=0, high=act_space, size=(N2,))\n",
        "\n",
        "replay1 = deque(maxlen=replay_size)\n",
        "replay2 = deque(maxlen=replay_size)\n",
        "\n",
        "qnext1 = torch.zeros(N1)\n",
        "qnext2 = torch.zeros(N2)\n",
        "\n",
        "act_means1 = init_mean_field(N1, act_space)\n",
        "act_means2 = init_mean_field(N2, act_space)\n",
        "\n",
        "losses1 = []\n",
        "losses2 = []"
      ],
      "metadata": {
        "id": "SExWW6SOxeBJ"
      },
      "execution_count": 32,
      "outputs": []
    },
    {
      "cell_type": "code",
      "source": [
        "def team_step(team, param, acts, layers):\n",
        "  obs = env.get_observation(team)\n",
        "  ids = env.get_agent_id(team)\n",
        "  obs_small = torch.from_numpy(obs[0][ :, :, :, [1, 4]])\n",
        "  agent_pos = env.get_pos(team)\n",
        "  acts, act_means, qvals = infer_acts(obs_small, param, layers, agent_pos, acts)\n",
        "  return acts, act_means, qvals, obs_small, ids\n",
        "\n",
        "def add_to_replay(replay, obs_small, acts, rewards, act_means, qnext):\n",
        "  for j in range(rewards.shape[0]):\n",
        "    exp = (obs_small[j], acts[j], rewards[j], act_means[j], qnext[j])\n",
        "    replay.append(exp)\n",
        "  return replay"
      ],
      "metadata": {
        "id": "ap2RaQwEToua"
      },
      "execution_count": 12,
      "outputs": []
    },
    {
      "cell_type": "code",
      "source": [
        "from tqdm import tqdm\n",
        "\n",
        "for i in tqdm(range(epochs)):\n",
        "  done = False\n",
        "  step_ct = 0\n",
        "  while not done:\n",
        "    acts_1, act_means1, qvals1, obs_small_1, ids_1 = team_step(team1, params[0], acts_1, layers)\n",
        "    env.set_action(team1, acts_1.detach().numpy().astype(np.int32))\n",
        "    acts_2, act_means2, qvals2, obs_small_2, ids_2 = team_step(team2, params[1], acts_2, layers)\n",
        "    env.set_action(team2, acts_2.detach().numpy().astype(np.int32))\n",
        "    done = env.step()\n",
        "    _, _, qnext1, _, ids_1 = team_step(team1, params[0], acts_1, layers)\n",
        "    _, _, qnext2, _, ids_2 = team_step(team2, params[1], acts_2, layers)\n",
        "    env.render()\n",
        "    rewards1 = torch.from_numpy(env.get_reward(team1)).float()\n",
        "    rewards2 = torch.from_numpy(env.get_reward(team2)).float()\n",
        "    replay1 = add_to_replay(replay1, obs_small_1, acts_1, rewards1, act_means1, qnext1)\n",
        "    replay2 = add_to_replay(replay2, obs_small_2, acts_2, rewards2, act_means2, qnext2)\n",
        "    shuffle(replay1)\n",
        "    shuffle(replay2)\n",
        "    ids_1_ = list(zip(np.arange(ids_1.shape[0]), ids_1))\n",
        "    ids_2_ = list(zip(np.arange(ids_2.shape[0]), ids_2))\n",
        "    env.clear_dead()\n",
        "    ids_1 = env.get_agent_id(team1)\n",
        "    ids_2 = env.get_agent_id(team2)\n",
        "    ids_1_ = [i for (i, j) in ids_1_ if j in ids_1]\n",
        "    ids_2_ = [i for (i, j) in ids_2_ if j in ids_2]\n",
        "    acts_1 = acts_1[ids_1_]\n",
        "    acts_2 = acts_2[ids_2_]\n",
        "    step_ct += 1\n",
        "    if step_ct > 250:\n",
        "      break\n",
        "    if len(replay1) > batch_size and len(replay2) > batch_size:\n",
        "      loss1 = train(batch_size, replay1, params[0], layers=layers, J=N1)\n",
        "      loss2 = train(batch_size, replay2, params[1], layers=layers, J=N2)\n",
        "      losses1.append(loss1)\n",
        "      losses2.append(loss2)"
      ],
      "metadata": {
        "id": "e6yau6GJQfz9"
      },
      "execution_count": null,
      "outputs": []
    },
    {
      "cell_type": "code",
      "source": [
        "import matplotlib.pyplot as plt\n",
        "\n",
        "plt.plot(losses1, label = \"team 1 loss\")\n",
        "plt.plot(losses2, label = \"team 2 loss\")\n",
        "plt.legend()\n",
        "plt.show()"
      ],
      "metadata": {
        "colab": {
          "base_uri": "https://localhost:8080/",
          "height": 265
        },
        "id": "oZfp1RxvrmKd",
        "outputId": "a684cb7c-8b27-4364-f309-75e8a6bb4999"
      },
      "execution_count": 37,
      "outputs": [
        {
          "output_type": "display_data",
          "data": {
            "image/png": "[encoded data removed]",
            "text/plain": [
              "<Figure size 432x288 with 1 Axes>"
            ]
          },
          "metadata": {
            "needs_background": "light"
          }
        }
      ]
    }
  ]
}